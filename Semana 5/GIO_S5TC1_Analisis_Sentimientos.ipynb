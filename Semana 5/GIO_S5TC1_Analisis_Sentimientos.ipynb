{
 "cells": [
  {
   "cell_type": "markdown",
   "metadata": {},
   "source": [
    "![image info](https://raw.githubusercontent.com/albahnsen/MIAD_ML_and_NLP/main/images/banner_1.png)"
   ]
  },
  {
   "cell_type": "markdown",
   "metadata": {},
   "source": [
    "# Taller: Análisis de sentimientos y técnicas de NLP\n",
    "\n",
    "En este taller podrán poner en práctica sus conocimientos sobre las diferentes técnicas para el procesamiento de lenguaje natural. El taller está constituido por 5 puntos, en los cuales deberan seguir las intrucciones de cada numeral para su desarrollo."
   ]
  },
  {
   "cell_type": "markdown",
   "metadata": {},
   "source": [
    "## Datos predicción sentimientos de viajeros en Twitter\n",
    "\n",
    "En este taller se usará el conjunto de datos de sentimientos sobre distintas aerolíneas de EE.UU. provenientes de Twitter. Cada observación contiene si el sentimiento de los tweets es positivo, neutral o negativo teniendo en cuenta distintas variables como aerolínea y las razones de los sentimientos negativos (como \"retraso en el vuelo\" o \"servicio grosero\"). El objetivo es predecir el sentimiento asociado a cada tweet. Para más detalles pueden visitar el siguiente enlace: [datos](https://www.kaggle.com/crowdflower/twitter-airline-sentiment)."
   ]
  },
  {
   "cell_type": "code",
   "execution_count": 1,
   "metadata": {},
   "outputs": [],
   "source": [
    "import warnings\n",
    "warnings.filterwarnings('ignore')"
   ]
  },
  {
   "cell_type": "code",
   "execution_count": 2,
   "metadata": {},
   "outputs": [],
   "source": [
    "# Importación de librerías\n",
    "import pandas as pd\n",
    "import numpy as np\n",
    "%matplotlib inline\n",
    "import matplotlib.pyplot as plt"
   ]
  },
  {
   "cell_type": "code",
   "execution_count": 3,
   "metadata": {},
   "outputs": [
    {
     "data": {
      "text/html": [
       "<div>\n",
       "<style scoped>\n",
       "    .dataframe tbody tr th:only-of-type {\n",
       "        vertical-align: middle;\n",
       "    }\n",
       "\n",
       "    .dataframe tbody tr th {\n",
       "        vertical-align: top;\n",
       "    }\n",
       "\n",
       "    .dataframe thead th {\n",
       "        text-align: right;\n",
       "    }\n",
       "</style>\n",
       "<table border=\"1\" class=\"dataframe\">\n",
       "  <thead>\n",
       "    <tr style=\"text-align: right;\">\n",
       "      <th></th>\n",
       "      <th>airline_sentiment</th>\n",
       "      <th>airline_sentiment_confidence</th>\n",
       "      <th>negativereason</th>\n",
       "      <th>negativereason_confidence</th>\n",
       "      <th>airline</th>\n",
       "      <th>airline_sentiment_gold</th>\n",
       "      <th>name</th>\n",
       "      <th>negativereason_gold</th>\n",
       "      <th>retweet_count</th>\n",
       "      <th>text</th>\n",
       "      <th>tweet_coord</th>\n",
       "      <th>tweet_created</th>\n",
       "      <th>tweet_location</th>\n",
       "      <th>user_timezone</th>\n",
       "    </tr>\n",
       "    <tr>\n",
       "      <th>tweet_id</th>\n",
       "      <th></th>\n",
       "      <th></th>\n",
       "      <th></th>\n",
       "      <th></th>\n",
       "      <th></th>\n",
       "      <th></th>\n",
       "      <th></th>\n",
       "      <th></th>\n",
       "      <th></th>\n",
       "      <th></th>\n",
       "      <th></th>\n",
       "      <th></th>\n",
       "      <th></th>\n",
       "      <th></th>\n",
       "    </tr>\n",
       "  </thead>\n",
       "  <tbody>\n",
       "    <tr>\n",
       "      <th>570306133677760513</th>\n",
       "      <td>neutral</td>\n",
       "      <td>1.0000</td>\n",
       "      <td>NaN</td>\n",
       "      <td>NaN</td>\n",
       "      <td>Virgin America</td>\n",
       "      <td>NaN</td>\n",
       "      <td>cairdin</td>\n",
       "      <td>NaN</td>\n",
       "      <td>0</td>\n",
       "      <td>@VirginAmerica What @dhepburn said.</td>\n",
       "      <td>NaN</td>\n",
       "      <td>2015-02-24 11:35:52 -0800</td>\n",
       "      <td>NaN</td>\n",
       "      <td>Eastern Time (US &amp; Canada)</td>\n",
       "    </tr>\n",
       "    <tr>\n",
       "      <th>570301130888122368</th>\n",
       "      <td>positive</td>\n",
       "      <td>0.3486</td>\n",
       "      <td>NaN</td>\n",
       "      <td>0.0000</td>\n",
       "      <td>Virgin America</td>\n",
       "      <td>NaN</td>\n",
       "      <td>jnardino</td>\n",
       "      <td>NaN</td>\n",
       "      <td>0</td>\n",
       "      <td>@VirginAmerica plus you've added commercials t...</td>\n",
       "      <td>NaN</td>\n",
       "      <td>2015-02-24 11:15:59 -0800</td>\n",
       "      <td>NaN</td>\n",
       "      <td>Pacific Time (US &amp; Canada)</td>\n",
       "    </tr>\n",
       "    <tr>\n",
       "      <th>570301083672813571</th>\n",
       "      <td>neutral</td>\n",
       "      <td>0.6837</td>\n",
       "      <td>NaN</td>\n",
       "      <td>NaN</td>\n",
       "      <td>Virgin America</td>\n",
       "      <td>NaN</td>\n",
       "      <td>yvonnalynn</td>\n",
       "      <td>NaN</td>\n",
       "      <td>0</td>\n",
       "      <td>@VirginAmerica I didn't today... Must mean I n...</td>\n",
       "      <td>NaN</td>\n",
       "      <td>2015-02-24 11:15:48 -0800</td>\n",
       "      <td>Lets Play</td>\n",
       "      <td>Central Time (US &amp; Canada)</td>\n",
       "    </tr>\n",
       "    <tr>\n",
       "      <th>570301031407624196</th>\n",
       "      <td>negative</td>\n",
       "      <td>1.0000</td>\n",
       "      <td>Bad Flight</td>\n",
       "      <td>0.7033</td>\n",
       "      <td>Virgin America</td>\n",
       "      <td>NaN</td>\n",
       "      <td>jnardino</td>\n",
       "      <td>NaN</td>\n",
       "      <td>0</td>\n",
       "      <td>@VirginAmerica it's really aggressive to blast...</td>\n",
       "      <td>NaN</td>\n",
       "      <td>2015-02-24 11:15:36 -0800</td>\n",
       "      <td>NaN</td>\n",
       "      <td>Pacific Time (US &amp; Canada)</td>\n",
       "    </tr>\n",
       "    <tr>\n",
       "      <th>570300817074462722</th>\n",
       "      <td>negative</td>\n",
       "      <td>1.0000</td>\n",
       "      <td>Can't Tell</td>\n",
       "      <td>1.0000</td>\n",
       "      <td>Virgin America</td>\n",
       "      <td>NaN</td>\n",
       "      <td>jnardino</td>\n",
       "      <td>NaN</td>\n",
       "      <td>0</td>\n",
       "      <td>@VirginAmerica and it's a really big bad thing...</td>\n",
       "      <td>NaN</td>\n",
       "      <td>2015-02-24 11:14:45 -0800</td>\n",
       "      <td>NaN</td>\n",
       "      <td>Pacific Time (US &amp; Canada)</td>\n",
       "    </tr>\n",
       "  </tbody>\n",
       "</table>\n",
       "</div>"
      ],
      "text/plain": [
       "                   airline_sentiment  airline_sentiment_confidence  \\\n",
       "tweet_id                                                             \n",
       "570306133677760513           neutral                        1.0000   \n",
       "570301130888122368          positive                        0.3486   \n",
       "570301083672813571           neutral                        0.6837   \n",
       "570301031407624196          negative                        1.0000   \n",
       "570300817074462722          negative                        1.0000   \n",
       "\n",
       "                   negativereason  negativereason_confidence         airline  \\\n",
       "tweet_id                                                                       \n",
       "570306133677760513            NaN                        NaN  Virgin America   \n",
       "570301130888122368            NaN                     0.0000  Virgin America   \n",
       "570301083672813571            NaN                        NaN  Virgin America   \n",
       "570301031407624196     Bad Flight                     0.7033  Virgin America   \n",
       "570300817074462722     Can't Tell                     1.0000  Virgin America   \n",
       "\n",
       "                   airline_sentiment_gold        name negativereason_gold  \\\n",
       "tweet_id                                                                    \n",
       "570306133677760513                    NaN     cairdin                 NaN   \n",
       "570301130888122368                    NaN    jnardino                 NaN   \n",
       "570301083672813571                    NaN  yvonnalynn                 NaN   \n",
       "570301031407624196                    NaN    jnardino                 NaN   \n",
       "570300817074462722                    NaN    jnardino                 NaN   \n",
       "\n",
       "                    retweet_count  \\\n",
       "tweet_id                            \n",
       "570306133677760513              0   \n",
       "570301130888122368              0   \n",
       "570301083672813571              0   \n",
       "570301031407624196              0   \n",
       "570300817074462722              0   \n",
       "\n",
       "                                                                 text  \\\n",
       "tweet_id                                                                \n",
       "570306133677760513                @VirginAmerica What @dhepburn said.   \n",
       "570301130888122368  @VirginAmerica plus you've added commercials t...   \n",
       "570301083672813571  @VirginAmerica I didn't today... Must mean I n...   \n",
       "570301031407624196  @VirginAmerica it's really aggressive to blast...   \n",
       "570300817074462722  @VirginAmerica and it's a really big bad thing...   \n",
       "\n",
       "                   tweet_coord              tweet_created tweet_location  \\\n",
       "tweet_id                                                                   \n",
       "570306133677760513         NaN  2015-02-24 11:35:52 -0800            NaN   \n",
       "570301130888122368         NaN  2015-02-24 11:15:59 -0800            NaN   \n",
       "570301083672813571         NaN  2015-02-24 11:15:48 -0800      Lets Play   \n",
       "570301031407624196         NaN  2015-02-24 11:15:36 -0800            NaN   \n",
       "570300817074462722         NaN  2015-02-24 11:14:45 -0800            NaN   \n",
       "\n",
       "                                 user_timezone  \n",
       "tweet_id                                        \n",
       "570306133677760513  Eastern Time (US & Canada)  \n",
       "570301130888122368  Pacific Time (US & Canada)  \n",
       "570301083672813571  Central Time (US & Canada)  \n",
       "570301031407624196  Pacific Time (US & Canada)  \n",
       "570300817074462722  Pacific Time (US & Canada)  "
      ]
     },
     "execution_count": 3,
     "metadata": {},
     "output_type": "execute_result"
    }
   ],
   "source": [
    "# Lectura de la información de archivo .zip\n",
    "tweets = pd.read_csv('https://raw.githubusercontent.com/albahnsen/MIAD_ML_and_NLP/main/datasets/Tweets.zip', index_col=0)\n",
    "\n",
    "# Visualización dataset\n",
    "tweets.head()"
   ]
  },
  {
   "cell_type": "code",
   "execution_count": 4,
   "metadata": {},
   "outputs": [
    {
     "data": {
      "text/plain": [
       "(14640, 14)"
      ]
     },
     "execution_count": 4,
     "metadata": {},
     "output_type": "execute_result"
    }
   ],
   "source": [
    "# Impresión tamaño del cojunto de datos\n",
    "tweets.shape"
   ]
  },
  {
   "cell_type": "code",
   "execution_count": 5,
   "metadata": {},
   "outputs": [
    {
     "data": {
      "text/plain": [
       "Index(['airline_sentiment', 'airline_sentiment_confidence', 'negativereason',\n",
       "       'negativereason_confidence', 'airline', 'airline_sentiment_gold',\n",
       "       'name', 'negativereason_gold', 'retweet_count', 'text', 'tweet_coord',\n",
       "       'tweet_created', 'tweet_location', 'user_timezone'],\n",
       "      dtype='object')"
      ]
     },
     "execution_count": 5,
     "metadata": {},
     "output_type": "execute_result"
    }
   ],
   "source": [
    "tweets.columns"
   ]
  },
  {
   "cell_type": "markdown",
   "metadata": {},
   "source": [
    "### Análisis descriptivo"
   ]
  },
  {
   "cell_type": "code",
   "execution_count": 6,
   "metadata": {},
   "outputs": [
    {
     "data": {
      "text/plain": [
       "airline_sentiment\n",
       "negative    9178\n",
       "neutral     3099\n",
       "positive    2363\n",
       "Name: count, dtype: int64"
      ]
     },
     "execution_count": 6,
     "metadata": {},
     "output_type": "execute_result"
    }
   ],
   "source": [
    "# Cuenta de tweets por cada sentimiento\n",
    "tweets['airline_sentiment'].value_counts()"
   ]
  },
  {
   "cell_type": "code",
   "execution_count": 7,
   "metadata": {},
   "outputs": [
    {
     "data": {
      "text/plain": [
       "airline\n",
       "United            3822\n",
       "US Airways        2913\n",
       "American          2759\n",
       "Southwest         2420\n",
       "Delta             2222\n",
       "Virgin America     504\n",
       "Name: count, dtype: int64"
      ]
     },
     "execution_count": 7,
     "metadata": {},
     "output_type": "execute_result"
    }
   ],
   "source": [
    "# Cuenta de tweets por cada aerolínea\n",
    "tweets['airline'].value_counts()"
   ]
  },
  {
   "cell_type": "code",
   "execution_count": 8,
   "metadata": {},
   "outputs": [
    {
     "data": {
      "text/plain": [
       "<Axes: title={'center': 'Sentiminetos por aerolínea'}, xlabel='airline'>"
      ]
     },
     "execution_count": 8,
     "metadata": {},
     "output_type": "execute_result"
    },
    {
     "data": {
      "image/png": "[encoded data removed]",
      "text/plain": [
       "<Figure size 1000x600 with 1 Axes>"
      ]
     },
     "metadata": {},
     "output_type": "display_data"
    }
   ],
   "source": [
    "# Plot con cuenta de tweets por cada aerolínea y sentimiento\n",
    "pd.crosstab(index = tweets[\"airline\"],columns = tweets[\"airline_sentiment\"]).plot(kind='bar',figsize=(10, 6),alpha=0.5,rot=0,stacked=True,title=\"Sentiminetos por aerolínea\")"
   ]
  },
  {
   "cell_type": "markdown",
   "metadata": {},
   "source": [
    "### Liberias y Variables de interés y predicción"
   ]
  },
  {
   "cell_type": "code",
   "execution_count": 11,
   "metadata": {},
   "outputs": [],
   "source": [
    "from sklearn.model_selection import train_test_split, cross_val_score\n",
    "from sklearn.feature_extraction.text import CountVectorizer, TfidfVectorizer\n",
    "from sklearn.ensemble import RandomForestClassifier\n",
    "from nltk.stem.snowball import SnowballStemmer\n",
    "from nltk.stem import WordNetLemmatizer"
   ]
  },
  {
   "cell_type": "code",
   "execution_count": 9,
   "metadata": {},
   "outputs": [],
   "source": [
    "# Separación de variables predictoras (X) y de variable de interés (y)\n",
    "X = tweets['text']\n",
    "y = tweets['airline_sentiment'].map({'negative':-1,'neutral':0,'positive':1})"
   ]
  },
  {
   "cell_type": "code",
   "execution_count": 15,
   "metadata": {},
   "outputs": [
    {
     "data": {
      "text/plain": [
       "tweet_id\n",
       "570306133677760513    0\n",
       "570301130888122368    1\n",
       "570301083672813571    0\n",
       "570301031407624196   -1\n",
       "570300817074462722   -1\n",
       "                     ..\n",
       "569587686496825344    1\n",
       "569587371693355008   -1\n",
       "569587242672398336    0\n",
       "569587188687634433   -1\n",
       "569587140490866689    0\n",
       "Name: airline_sentiment, Length: 14640, dtype: int64"
      ]
     },
     "execution_count": 15,
     "metadata": {},
     "output_type": "execute_result"
    }
   ],
   "source": [
    "y"
   ]
  },
  {
   "cell_type": "code",
   "execution_count": 12,
   "metadata": {},
   "outputs": [],
   "source": [
    "# Separación de datos en set de entrenamiento y test\n",
    "X_train, X_test, y_train, y_test = train_test_split(X, y, test_size=0.33, random_state=42)"
   ]
  },
  {
   "cell_type": "markdown",
   "metadata": {},
   "source": [
    "### Punto 1 - Uso de CountVectorizer\n",
    "\n",
    "En la celda 1 creen un modelo de random forest con la libreria sklearn que prediga el sentimiento de los tweets usando los set de entrenamiento y test definidos anteriormente. Usen la función **CountVectorizer** y presenten el desempeño del modelo con la métrica del acurracy.\n",
    "\n",
    "Recuerden que el preprocesamiento que se haga sobre los datos de entrenamiento  (*.fit_transform()*) deben ser aplicado al set de test (*.transform()*)."
   ]
  },
  {
   "cell_type": "code",
   "execution_count": 54,
   "metadata": {},
   "outputs": [
    {
     "name": "stdout",
     "output_type": "stream",
     "text": [
      "Accuracy del modelo: 0.7711\n",
      "              precision    recall  f1-score   support\n",
      "\n",
      "    negative       0.78      0.96      0.86      3085\n",
      "     neutral       0.69      0.41      0.51       984\n",
      "    positive       0.84      0.47      0.60       763\n",
      "\n",
      "    accuracy                           0.77      4832\n",
      "   macro avg       0.77      0.61      0.66      4832\n",
      "weighted avg       0.77      0.77      0.75      4832\n",
      "\n"
     ]
    }
   ],
   "source": [
    "# Celda 1\n",
    "from sklearn.ensemble import RandomForestClassifier\n",
    "from sklearn import metrics\n",
    "from sklearn.metrics import accuracy_score\n",
    "from sklearn.metrics import classification_report\n",
    "\n",
    "# Vectorización\n",
    "vectorizador = CountVectorizer()\n",
    "X_train_vectorizado = vectorizador.fit_transform(X_train)\n",
    "X_test_vectorizado = vectorizador.transform(X_test)\n",
    "\n",
    "# creacion y entrenamiento del modelo Random Forest\n",
    "modelo = RandomForestClassifier(n_jobs=-1, random_state=42 )\n",
    "modelo.fit(X_train_vectorizado, y_train)\n",
    "\n",
    "#Predecir \n",
    "y_pred = modelo.predict(X_test_vectorizado)\n",
    "\n",
    "\n",
    "accuracy = accuracy_score(y_test, y_pred)\n",
    "print(f\"Accuracy del modelo: {accuracy:.4f}\")\n",
    "\n",
    "print(classification_report(y_test, y_pred, target_names=['negative', 'neutral', 'positive']))\n",
    "\n",
    "\n"
   ]
  },
  {
   "cell_type": "markdown",
   "metadata": {},
   "source": [
    "La métrica de accuracy para el  RandomForest es 0.7711, o 77%. significa que el modelo ha predicho correctamente el sentimiento de los tweets  77% de las veces en el conjunto de datos de prueba, indica que el modelo es generalmente capaz de distinguir entre sentimientos positivos, negativos y neutrales en los tweets de manera efectiva en la mayoría de los casos.\n"
   ]
  },
  {
   "cell_type": "markdown",
   "metadata": {},
   "source": [
    "de lo anterior se puede decir:\n",
    "\n",
    "Análisis de Resultados por Clase\n",
    "\n",
    "Negativo:\n",
    "\n",
    "Precisión: 0.78,  indica que cuando el modelo predice un tweet como negativo, es correcto el 78% de las veces, recall: 0.96,  significa que el modelo identifica correctamente el 96% de todos los tweets negativos reales, F1-score: 0.86, F1-score alto sugiere un buen equilibrio entre precisión y recall, lo cual es positivo para la clase de tweets negativos\n",
    "\n",
    "Neutral:\n",
    "\n",
    "Precisión: 0.69, La precisión es más baja en comparación con la clase negativa, lo que indica más falsos positivos para esta clase, recall: 0.41, es bajo, indicando que muchos tweets neutrales no son identificados correctamente por el modelo, F1-score 0.51, bajo, refleja la dificultad del modelo para equilibrar precisión y recall en esta clase.\n",
    "\n",
    "Positivo:\n",
    "\n",
    "Precisión: 0.84, buena precisión, lo que sugiere que las predicciones positivas son confiables, recall: 0.47, similar al caso neutral, el recall bajo muestra que muchos tweets positivos no son detectados, F1-score: 0.60,  moderado, refleja los retos en la detección efectiva de tweets positivos.\n",
    "   \n"
   ]
  },
  {
   "cell_type": "markdown",
   "metadata": {},
   "source": [
    "### Punto 2 - Eliminación de Stopwords\n",
    "\n",
    "En la celda 2 creen un modelo de random forest con la libreria sklearn que prediga el sentimiento de los tweets usando los set de entrenamiento y test definidos anteriormente. Usen la función CountVectorizer, **eliminen stopwords** y presenten el desempeño del modelo con la métrica del acurracy.\n",
    "\n",
    "Recuerden que el preprocesamiento que se haga sobre los datos de entrenamiento  (*.fit_transform()*) deben ser aplicado al set de test (*.transform()*)."
   ]
  },
  {
   "cell_type": "code",
   "execution_count": 55,
   "metadata": {},
   "outputs": [
    {
     "name": "stdout",
     "output_type": "stream",
     "text": [
      "Accuracy del modelo: 0.7618\n",
      "              precision    recall  f1-score   support\n",
      "\n",
      "    negative       0.82      0.89      0.85      3085\n",
      "     neutral       0.57      0.49      0.53       984\n",
      "    positive       0.71      0.60      0.65       763\n",
      "\n",
      "    accuracy                           0.76      4832\n",
      "   macro avg       0.70      0.66      0.68      4832\n",
      "weighted avg       0.75      0.76      0.75      4832\n",
      "\n"
     ]
    }
   ],
   "source": [
    "# Celda 2\n",
    "# vectorizacion\n",
    "vectorizadornsw = CountVectorizer(stop_words='english')\n",
    "X_train_vectorizado = vectorizadornsw.fit_transform(X_train)\n",
    "X_test_vectorizado = vectorizadornsw.transform(X_test)\n",
    "\n",
    "# creación y entrenamiento del modelo Random Forest\n",
    "modelo2 = RandomForestClassifier(n_jobs=-1, random_state=42)\n",
    "modelo2.fit(X_train_vectorizado, y_train)\n",
    "\n",
    "# predecir las probabilidades en el conjunto de test\n",
    "y_pred2 = modelo2.predict(X_test_vectorizado)\n",
    "\n",
    "\n",
    "accuracy2 = accuracy_score(y_test, y_pred2)\n",
    "print(f\"Accuracy del modelo: {accuracy2:.4f}\")\n",
    "\n",
    "print(classification_report(y_test, y_pred2, target_names=['negative', 'neutral', 'positive']))"
   ]
  },
  {
   "cell_type": "markdown",
   "metadata": {},
   "source": [
    "\n",
    "El accuracy del modelo es  0.7618, este resultado indica que el modelo es capaz de predecir correctamente el sentimiento de los tweets el 76% de las veces comparando con el modelo anterior sin eliminar stopwords que tenía un accuracy de 0.77, observamos una ligera disminución en el rendimiento general.\n",
    "\n",
    "\n",
    "Análisis detallado por clase\n",
    "\n",
    "Negativos:\n",
    "\n",
    "Precisión: 0.82, esto indica que el modelo es bastante preciso al identificar tweets negativos, recall: 0.89, el modelo tiene un buen rendimiento en identificar correctamente la mayoría de los tweets negativos reales, F1-score: 0.85, bueno sugiere un buen equilibrio entre precisión y recall para tweets negativos.\n",
    "\n",
    "Neutrales:\n",
    "\n",
    "Precisión: 0.57, la precisión es baja, indicando que el modelo confunde otros sentimientos como neutrales, recall: 0.49, menos de la mitad de los tweets neutrales reales son identificados correctamente, lo que muestra dificultades en esta clase, F1-score: 0.53, bajo refleja los desafíos en equilibrar precisión y recall para esta categoría.\n",
    "\n",
    "Positivos:\n",
    "\n",
    "Precisión: 0.71, indica una precisión decente para identificar tweets positivos, recall: 0.60, sugiera que se pierden algunos tweets positivos reales, F1-score: 0.65, moderado, requiere mejoras necesarias para equilibrar la precisión y el recall\n",
    "\n",
    "La eliminación de stopwords ha tenido un impacto marginal en la precisión general del modelo y ha variado ligeramente las métricas de precisión, recall y F1-score para las diferentes clases."
   ]
  },
  {
   "cell_type": "markdown",
   "metadata": {},
   "source": [
    "### Punto 3 - Lematización con verbos\n",
    "\n",
    "En la celda 3 creen un modelo de random forest con la libreria sklearn que prediga el sentimiento de los tweets usando los set de entrenamiento y test definidos anteriormente. Usen la función CountVectorizer, **lematizen el texto con verbos** y presenten el desempeño del modelo con la métrica del acurracy.\n",
    "\n",
    "Recuerden que el preprocesamiento que se haga sobre los datos de entrenamiento  (*.fit_transform()*) deben ser aplicado al set de test (*.transform()*)."
   ]
  },
  {
   "cell_type": "code",
   "execution_count": 59,
   "metadata": {},
   "outputs": [
    {
     "name": "stderr",
     "output_type": "stream",
     "text": [
      "[nltk_data] Downloading package wordnet to\n",
      "[nltk_data]     C:\\Users\\Lenovo\\AppData\\Roaming\\nltk_data...\n",
      "[nltk_data]   Package wordnet is already up-to-date!\n"
     ]
    },
    {
     "name": "stdout",
     "output_type": "stream",
     "text": [
      "Accuracy del modelo con lematización de verbos: 0.75951987\n",
      "              precision    recall  f1-score   support\n",
      "\n",
      "    negative       0.76      0.97      0.85      3085\n",
      "     neutral       0.69      0.37      0.48       984\n",
      "    positive       0.84      0.41      0.55       763\n",
      "\n",
      "    accuracy                           0.76      4832\n",
      "   macro avg       0.76      0.58      0.63      4832\n",
      "weighted avg       0.76      0.76      0.73      4832\n",
      "\n"
     ]
    }
   ],
   "source": [
    "from nltk.stem import WordNetLemmatizer\n",
    "import nltk\n",
    "nltk.download('wordnet') \n",
    "\n",
    "def texto_lematizado(texto):\n",
    "    lemmatizado = WordNetLemmatizer()\n",
    "    # tokenizar el texto y lematizar cada palabra como verbo\n",
    "    text = texto.lower()\n",
    "    words = text.split()\n",
    "    return [lemmatizado.lemmatize(word, pos='v') for word in words]\n",
    "    \n",
    "\n",
    "# configurar CountVectorizer con la funcion de lematizacion\n",
    "vectorizadolem = CountVectorizer(analyzer=texto_lematizado)\n",
    "\n",
    "# transformar los datos de entrenamiento y de prueba\n",
    "X_train_vectorizado = vectorizadolem.fit_transform(X_train)\n",
    "X_test_vectorizado = vectorizadolem.transform(X_test)\n",
    "\n",
    "# crear y entrenar el modelo de Random Forest\n",
    "modelo3 = RandomForestClassifier(n_jobs=-1, random_state=42)\n",
    "modelo3.fit(X_train_vectorizado, y_train)\n",
    "\n",
    "# realizar predicciones en el conjunto de prueba\n",
    "y_pred3 = modelo3.predict(X_test_vectorizado)\n",
    "\n",
    "\n",
    "accuracy3 = accuracy_score(y_test, y_pred3)\n",
    "print(f\"Accuracy del modelo con lematización de verbos: {accuracy3:.8f}\")\n",
    "\n",
    "print(classification_report(y_test, y_pred3, target_names=['negative', 'neutral', 'positive']))"
   ]
  },
  {
   "cell_type": "markdown",
   "metadata": {},
   "source": [
    "Los resultados de la clasificación con lematización centrada en verbos muestran un accuracy general del 75,95%, este es un rendimiento ligeramente mas bajo en comparacion con los modelos anteriores sin lematización y con eliminación de stopwords.\n",
    "\n",
    "Análisis Detallado por Clase\n",
    "\n",
    "Negativo:\n",
    "\n",
    "Precisión: 0.76, el modelo es preciso al identificar tweets negativos ,recall 0.97, el modelo es muy efectivo al capturar la gran mayoría de tweets negativos, lo cual es positivo, considerando que esta es la clase predominante. F1-score: 0.85, un buen equilibrio entre precisión y recall, indicando un rendimiento sólido para esta categoría.\n",
    "\n",
    "Neutral:\n",
    "\n",
    "Precisión: 0.69, la precisión es moderada; el modelo aún confunde otras categorías como neutrales, recall: 0.37, el modelo tiene dificultades para identificar correctamente los tweets neutrales, perdiendo más de la mitad de ellos. F1-score: 0.48, refleja el rendimiento mediocre en la identificación de tweets neutrales.\n",
    "\n",
    "Positivo:\n",
    "\n",
    "Precisión: 0.84, alta precisión, indicando que cuando el modelo predice un tweet como positivo, es muy probable que sea correcto, por otro lado recall: 0.41, similar a los neutrales, el modelo no es efectivo al identificar todos los tweets positivos, F1-score: 0.55, el F1-score es relativamente bajo, lo que refleja la dificultad en equilibrar precisión y recall para esta clase.\n",
    "\n",
    "La lematización de verbos no ha mejorado significativamente el rendimiento general del modelo en comparación con los modelos anteriores, esto podría sugerir que el contexto verbal por sí solo no es suficiente para capturar en el análisis de sentimientos o que la precisión en las clases neutral y positiva necesita enfoques adicionales."
   ]
  },
  {
   "cell_type": "markdown",
   "metadata": {},
   "source": [
    "### Punto 4 - Multiples técnicas\n",
    "\n",
    "En la celda 4 creen un modelo de random forest con la libreria sklearn que prediga el sentimiento de los tweets usando los set de entrenamiento y test definidos anteriormente. Usen la función **CountVectorizer, eliminen stopwords, lematizen el texto con verbos** y presenten el desempeño del modelo con la métrica del acurracy.\n",
    "\n",
    "Recuerden que el preprocesamiento que se haga sobre los datos de entrenamiento  (*.fit_transform()*) deben ser aplicado al set de test (*.transform()*)."
   ]
  },
  {
   "cell_type": "code",
   "execution_count": 60,
   "metadata": {},
   "outputs": [
    {
     "name": "stderr",
     "output_type": "stream",
     "text": [
      "[nltk_data] Downloading package wordnet to\n",
      "[nltk_data]     C:\\Users\\Lenovo\\AppData\\Roaming\\nltk_data...\n",
      "[nltk_data]   Package wordnet is already up-to-date!\n"
     ]
    },
    {
     "name": "stdout",
     "output_type": "stream",
     "text": [
      "Accuracy del modelo con lematización de verbos: 0.75951987\n",
      "              precision    recall  f1-score   support\n",
      "\n",
      "    negative       0.76      0.97      0.85      3085\n",
      "     neutral       0.69      0.37      0.48       984\n",
      "    positive       0.84      0.41      0.55       763\n",
      "\n",
      "    accuracy                           0.76      4832\n",
      "   macro avg       0.76      0.58      0.63      4832\n",
      "weighted avg       0.76      0.76      0.73      4832\n",
      "\n"
     ]
    }
   ],
   "source": [
    "# Celda 4\n",
    "\n",
    "from sklearn.feature_extraction.text import CountVectorizer\n",
    "from sklearn.ensemble import RandomForestClassifier\n",
    "from sklearn.metrics import accuracy_score\n",
    "from nltk.stem import WordNetLemmatizer\n",
    "import nltk\n",
    "nltk.download('wordnet')  \n",
    "\n",
    "def texto_lematizado(texto):\n",
    "    lemmatizado = WordNetLemmatizer()\n",
    "    text = texto.lower()\n",
    "    words = text.split()\n",
    "    return [lemmatizado.lemmatize(word, pos='v') for word in words]\n",
    "    \n",
    "\n",
    "# configurar CountVectorizer con  lematizacion\n",
    "vectorizadotodo = CountVectorizer(stop_words='english', analyzer=texto_lematizado)\n",
    "\n",
    "# transformar los datos de entrenamiento y de prueba\n",
    "X_train_vectorizado = vectorizadotodo.fit_transform(X_train)\n",
    "X_test_vectorizado = vectorizadotodo.transform(X_test)\n",
    "\n",
    "# crear y entrenar el modelo de Random Forest\n",
    "modelo4 = RandomForestClassifier(n_jobs=-1, random_state=42)\n",
    "modelo4.fit(X_train_vectorizado, y_train)\n",
    "\n",
    "# realizar predicciones en el conjunto de prueba\n",
    "y_pred4 = modelo4.predict(X_test_vectorizado)\n",
    "\n",
    "# calcular y presentar la precisión del modelo\n",
    "accuracy4 = accuracy_score(y_test, y_pred4)\n",
    "print(f\"Accuracy del modelo con lematización de verbos: {accuracy4:.8f}\")\n",
    "\n",
    "print(classification_report(y_test, y_pred4, target_names=['negative', 'neutral', 'positive']))\n"
   ]
  },
  {
   "cell_type": "markdown",
   "metadata": {},
   "source": [
    "El modelo combinando la eliminación de stopwords y la lematización con enfoque en verbos ha logrado una precisión (accuracy) de 0.7535, este es un rendimiento ligeramente mas bajo en comparacio con los resultados de los modelos anteriores\n",
    "\n",
    "Análisis Detallado de las Métricas por Clase\n",
    "\n",
    "Negativo:\n",
    "\n",
    "Precisión: 0.76, buena precisión sugiere que el modelo es efectivo en identificar correctamente los tweets negativos\n",
    "Recall: 0.97, un alto recall indica que el modelo es capaz de capturar la mayoría de los tweets negativos.\n",
    "F1-score: 0.85, indica un balance saludable entre precisión y recall.\n",
    "\n",
    "Neutral:\n",
    "\n",
    "Precisión: 0.66, esta precisión moderada refleja cierta dificultad en identificar correctamente los tweets neutrales\n",
    "Recall: 0.35, este recall bajo indica que el modelo no es muy efectivo en identificar todos los tweets que son verdaderamente neutrales. F1-score 0.46, bajo para los neutrales sugiere que se necesita mejorar el equilibrio entre precisión y recall para esta clase.\n",
    "\n",
    "Positivo:\n",
    "\n",
    "Precisión: 0.87, la precisión es  buena para los tweets positivos, por otro lado, recall 0.40, bajo para la clase positivas.\n",
    "F1-score: 0.55, este F1-score más bajo que el de la clase negativa\n",
    "\n",
    "El modelo ha demostrado ser eficaz, especialmente en la clasificación de tweets negativos, que son los más abundantes en el dataset, sin embargo el rendimiento en las clases neutrales y positivas aún podría mejorarse"
   ]
  },
  {
   "cell_type": "markdown",
   "metadata": {},
   "source": [
    "### Punto 5 - Comparación y análisis de resultados\n",
    "\n",
    "En la celda 5 comparen los resultados obtenidos de los diferentes modelos (random forest) y comenten las ventajas del mejor modelo y las desventajas del modelo con el menor desempeño."
   ]
  },
  {
   "cell_type": "code",
   "execution_count": 57,
   "metadata": {},
   "outputs": [
    {
     "data": {
      "image/png": "[encoded data removed]",
      "text/plain": [
       "<Figure size 1000x300 with 1 Axes>"
      ]
     },
     "metadata": {},
     "output_type": "display_data"
    }
   ],
   "source": [
    "# Celda 5\n",
    "\n",
    "fig = plt.figure(figsize=(10,3))\n",
    "ax = fig.add_axes([0,0,1,1])\n",
    "ax.set_title(\"ANALISIS DE SENTIMIENTOS\")\n",
    "ejeX = ['Random Forest CountVectorizer simple','Random Forest  no stopwords', 'Random Forest lematizacion', 'Random Forest Multiples Tecnicas']\n",
    "ejeY = [accuracy, accuracy2, accuracy3, accuracy4]\n",
    "ax.bar(ejeX,ejeY)\n",
    "def addlabels(x, y, plotP):\n",
    "    for i in range(len(x)):\n",
    "        plotP.text(i, y[i], f'{y[i]:.4f}')  # Aquí se formatean los decimales\n",
    "\n",
    "# Asegúrate de llamar a la función modificada cuando crees el gráfico\n",
    "addlabels(ejeX, ejeY, plt)\n",
    "ax.set_xticks(range(len(ejeX)))\n",
    "ax.set_xticklabels(ejeX, rotation=45, ha='right')\n",
    "plt.show()\n"
   ]
  },
  {
   "cell_type": "markdown",
   "metadata": {},
   "source": [
    "no parece haber una diferencia significativa en los modelos vistos y sus diferentes extrategias, algunas razones de este comportamiento podrian ser:\n",
    "    \n",
    "Los tweets son conocidos por su uso de lenguaje informal, abreviaturas, emoticonos, y sarcasmo, lo que puede ser difícil de capturar con métodos estándar de procesamiento de texto, estas sutilezas pueden llevar a que el modelo no interprete correctamente el sentimiento\n",
    "\n",
    "Lematización y eliminación de stopwords pueden simplificar el texto, pero también pueden eliminar información contextual clave que afecta el significado, Ppr ejemplo en el analisis de sentimientos, palabras que normalmente son consideradas stopwords como \"no\" pueden cambiar completamente el sentimiento de una frase.\n",
    "\n",
    "Si hay un desbalance significativo en las clases de sentimientos, el modelo podría estar sesgado hacia la clase más frecuente, estrategias como el balanceo de clases mediante técnicas de muestreo o penalizaciones diferenciadas en el modelo pueden ser necesarias.\n",
    "\n",
    "Mejor Modelo\n",
    "\n",
    "Mejor modelo es el Random forest con CountVectorizer simple, tiene mejor un accuracy de 77,11, indica que el modelo clasificó correctamente el 77.11% de los casos en el conjunto de prueba, algunas ventajas:\n",
    "\n",
    "\n",
    "Este modelo tiene una precisión general más alta en comparación con el modelo que incluye lematización. Esto indica que, en general, es más eficaz para clasificar correctamente los tweets en cualquiera de las tres categorías (negativa, neutral, positiva).\n",
    "\n",
    "Muestra un alto rendimiento en la clasificación de tweets negativos con un recall de 0.96 y una precisión de 0.78. Esto es crucial si el objetivo principal es identificar comentarios negativos de manera eficiente\n",
    "\n",
    "Los scores F1 en este modelo son generalmente más altos en comparación con el modelo con lematización, lo que indica un mejor balance entre precisión y recuperación en la clasificación de cada tipo de sentimiento.\n",
    "\n",
    "\n",
    "Peor Modelo\n",
    "\n",
    "Peor modelo es el de Tecnicas Multiples Comparado con el modelo anterior sin lematización (0.7711), la precisión general ha disminuido ligeramente, sugiere que la lematización de verbos y la eliminación de stopwords , en este caso, no ha mejorado la capacidad del modelo para predecir correctamente la categoría de sentimiento, desventajas:\n",
    "\n",
    "\n",
    "La precisión (0.66) y el recall (0.35) para tweets neutrales son bajos, lo que indica que el modelo lucha significativamente para identificar y clasificar correctamente los tweets neutrales, el F1-Score de 0.46 es el más bajo entre ambos modelos para esta categoría\n",
    "\n",
    "Aunque la precisión es alta (0.87), el recall es bastante bajo (0.40), lo que significa que el modelo falla en identificar una cantidad significativa de tweets positivos reales, esto resulta en un F1-Score de 0.55, que es inferior al del modelo sin lematización para esta categoría.\n",
    "\n",
    "\n"
   ]
  },
  {
   "cell_type": "code",
   "execution_count": null,
   "metadata": {},
   "outputs": [],
   "source": []
  }
 ],
 "metadata": {
  "kernelspec": {
   "display_name": "Python 3 (ipykernel)",
   "language": "python",
   "name": "python3"
  },
  "language_info": {
   "codemirror_mode": {
    "name": "ipython",
    "version": 3
   },
   "file_extension": ".py",
   "mimetype": "text/x-python",
   "name": "python",
   "nbconvert_exporter": "python",
   "pygments_lexer": "ipython3",
   "version": "3.11.5"
  }
 },
 "nbformat": 4,
 "nbformat_minor": 2
}
